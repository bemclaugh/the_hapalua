{
 "cells": [
  {
   "cell_type": "markdown",
   "metadata": {},
   "source": [
    "#The 2015 Hapalua\n",
    "##Honolulu Half-Marathon"
   ]
  },
  {
   "cell_type": "code",
   "execution_count": 6,
   "metadata": {
    "collapsed": false
   },
   "outputs": [],
   "source": [
    "import pandas as pd\n",
    "from pandas import Series, DataFrame, Panel\n",
    "import matplotlib.pyplot as plt\n",
    "import matplotlib as mpl"
   ]
  },
  {
   "cell_type": "code",
   "execution_count": 7,
   "metadata": {
    "collapsed": true
   },
   "outputs": [],
   "source": [
    "import pickle\n",
    "fh = open('hapalua.pk', 'rb')\n",
    "df = pickle.load(fh)\n",
    "fh.close()"
   ]
  },
  {
   "cell_type": "markdown",
   "metadata": {},
   "source": [
    "Drop rows without a finish time or catgeory"
   ]
  },
  {
   "cell_type": "code",
   "execution_count": 8,
   "metadata": {
    "collapsed": false
   },
   "outputs": [],
   "source": [
    "runners = df.dropna(subset=['time', 'category'])"
   ]
  },
  {
   "cell_type": "code",
   "execution_count": 9,
   "metadata": {
    "collapsed": false
   },
   "outputs": [
    {
     "data": {
      "text/html": [
       "<div style=\"max-height:1000px;max-width:1500px;overflow:auto;\">\n",
       "<table border=\"1\" class=\"dataframe\">\n",
       "  <thead>\n",
       "    <tr style=\"text-align: right;\">\n",
       "      <th></th>\n",
       "      <th>10k</th>\n",
       "      <th>15k</th>\n",
       "      <th>5k</th>\n",
       "      <th>bib</th>\n",
       "      <th>pace</th>\n",
       "      <th>place</th>\n",
       "      <th>time</th>\n",
       "    </tr>\n",
       "  </thead>\n",
       "  <tbody>\n",
       "    <tr>\n",
       "      <th>count</th>\n",
       "      <td>4732</td>\n",
       "      <td>4773</td>\n",
       "      <td>4792</td>\n",
       "      <td>4817.000000</td>\n",
       "      <td>4817</td>\n",
       "      <td>4817.000000</td>\n",
       "      <td>4817</td>\n",
       "    </tr>\n",
       "    <tr>\n",
       "      <th>mean</th>\n",
       "      <td>0 days 01:09:43.708368</td>\n",
       "      <td>0 days 01:47:10.126126</td>\n",
       "      <td>0 days 00:34:24.428631</td>\n",
       "      <td>3427.149678</td>\n",
       "      <td>0 days 00:11:52.190782</td>\n",
       "      <td>2409.000000</td>\n",
       "      <td>0 days 02:35:23.660369</td>\n",
       "    </tr>\n",
       "    <tr>\n",
       "      <th>std</th>\n",
       "      <td>0 days 00:15:42.999831</td>\n",
       "      <td>0 days 00:24:17.101076</td>\n",
       "      <td>0 days 00:07:44.198635</td>\n",
       "      <td>1885.388939</td>\n",
       "      <td>0 days 00:02:48.622488</td>\n",
       "      <td>1390.692453</td>\n",
       "      <td>0 days 00:36:48.953325</td>\n",
       "    </tr>\n",
       "    <tr>\n",
       "      <th>min</th>\n",
       "      <td>0 days 00:37:30</td>\n",
       "      <td>0 days 00:56:46</td>\n",
       "      <td>0 days 00:18:14</td>\n",
       "      <td>31.000000</td>\n",
       "      <td>0 days 00:06:06</td>\n",
       "      <td>1.000000</td>\n",
       "      <td>0 days 01:19:52</td>\n",
       "    </tr>\n",
       "    <tr>\n",
       "      <th>25%</th>\n",
       "      <td>0 days 00:58:36</td>\n",
       "      <td>0 days 01:29:29</td>\n",
       "      <td>0 days 00:29:14</td>\n",
       "      <td>1752.000000</td>\n",
       "      <td>0 days 00:09:48</td>\n",
       "      <td>1205.000000</td>\n",
       "      <td>0 days 02:08:22</td>\n",
       "    </tr>\n",
       "    <tr>\n",
       "      <th>50%</th>\n",
       "      <td>0 days 01:07:20.500000</td>\n",
       "      <td>0 days 01:43:36</td>\n",
       "      <td>0 days 00:33:20.500000</td>\n",
       "      <td>3594.000000</td>\n",
       "      <td>0 days 00:11:23</td>\n",
       "      <td>2409.000000</td>\n",
       "      <td>0 days 02:29:02</td>\n",
       "    </tr>\n",
       "    <tr>\n",
       "      <th>75%</th>\n",
       "      <td>0 days 01:18:06.250000</td>\n",
       "      <td>0 days 02:01:03</td>\n",
       "      <td>0 days 00:38:05</td>\n",
       "      <td>5054.000000</td>\n",
       "      <td>0 days 00:13:30</td>\n",
       "      <td>3613.000000</td>\n",
       "      <td>0 days 02:56:45</td>\n",
       "    </tr>\n",
       "    <tr>\n",
       "      <th>max</th>\n",
       "      <td>0 days 02:08:13</td>\n",
       "      <td>0 days 03:14:02</td>\n",
       "      <td>0 days 01:15:35</td>\n",
       "      <td>6500.000000</td>\n",
       "      <td>0 days 00:24:37</td>\n",
       "      <td>4817.000000</td>\n",
       "      <td>0 days 05:22:17</td>\n",
       "    </tr>\n",
       "  </tbody>\n",
       "</table>\n",
       "</div>"
      ],
      "text/plain": [
       "                          10k                     15k                      5k  \\\n",
       "count                    4732                    4773                    4792   \n",
       "mean   0 days 01:09:43.708368  0 days 01:47:10.126126  0 days 00:34:24.428631   \n",
       "std    0 days 00:15:42.999831  0 days 00:24:17.101076  0 days 00:07:44.198635   \n",
       "min           0 days 00:37:30         0 days 00:56:46         0 days 00:18:14   \n",
       "25%           0 days 00:58:36         0 days 01:29:29         0 days 00:29:14   \n",
       "50%    0 days 01:07:20.500000         0 days 01:43:36  0 days 00:33:20.500000   \n",
       "75%    0 days 01:18:06.250000         0 days 02:01:03         0 days 00:38:05   \n",
       "max           0 days 02:08:13         0 days 03:14:02         0 days 01:15:35   \n",
       "\n",
       "               bib                    pace        place  \\\n",
       "count  4817.000000                    4817  4817.000000   \n",
       "mean   3427.149678  0 days 00:11:52.190782  2409.000000   \n",
       "std    1885.388939  0 days 00:02:48.622488  1390.692453   \n",
       "min      31.000000         0 days 00:06:06     1.000000   \n",
       "25%    1752.000000         0 days 00:09:48  1205.000000   \n",
       "50%    3594.000000         0 days 00:11:23  2409.000000   \n",
       "75%    5054.000000         0 days 00:13:30  3613.000000   \n",
       "max    6500.000000         0 days 00:24:37  4817.000000   \n",
       "\n",
       "                         time  \n",
       "count                    4817  \n",
       "mean   0 days 02:35:23.660369  \n",
       "std    0 days 00:36:48.953325  \n",
       "min           0 days 01:19:52  \n",
       "25%           0 days 02:08:22  \n",
       "50%           0 days 02:29:02  \n",
       "75%           0 days 02:56:45  \n",
       "max           0 days 05:22:17  "
      ]
     },
     "execution_count": 9,
     "metadata": {},
     "output_type": "execute_result"
    }
   ],
   "source": [
    "runners.describe()"
   ]
  },
  {
   "cell_type": "code",
   "execution_count": null,
   "metadata": {
    "collapsed": true
   },
   "outputs": [],
   "source": []
  }
 ],
 "metadata": {
  "kernelspec": {
   "display_name": "Python 2",
   "language": "python",
   "name": "python2"
  },
  "language_info": {
   "codemirror_mode": {
    "name": "ipython",
    "version": 2
   },
   "file_extension": ".py",
   "mimetype": "text/x-python",
   "name": "python",
   "nbconvert_exporter": "python",
   "pygments_lexer": "ipython2",
   "version": "2.7.9"
  }
 },
 "nbformat": 4,
 "nbformat_minor": 0
}
